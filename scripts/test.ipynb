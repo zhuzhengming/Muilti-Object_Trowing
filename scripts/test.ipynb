{
 "cells": [
  {
   "metadata": {
    "ExecuteTime": {
     "end_time": "2025-02-13T15:17:06.736988Z",
     "start_time": "2025-02-13T15:17:04.013333Z"
    }
   },
   "cell_type": "code",
   "source": [
    "import sys\n",
    "sys.path.append('../')\n",
    "import copy\n",
    "import math\n",
    "import numpy as np\n",
    "import time\n",
    "from utils.controller_utils import Robot\n",
    "import rospy\n",
    "import tools.rotations as rot\n",
    "import matplotlib\n",
    "import matplotlib.pyplot as plt\n",
    "matplotlib.use('Qt5Agg')\n",
    "\n",
    "%load_ext autoreload\n",
    "%autoreload 2\n",
    "\n",
    "r = Robot(optitrack_frame_names=['iiwa_base7', 'realsense_m'], position_control=True)\n"
   ],
   "id": "f41f1f7340dfc443",
   "outputs": [
    {
     "name": "stdout",
     "output_type": "stream",
     "text": [
      "Kinematic model has been loaded from ../kinematics/q2pose_left.txt\n"
     ]
    },
    {
     "name": "stderr",
     "output_type": "stream",
     "text": [
      "Unknown tag \"material\" in /robot[@name='iiwa7']/link[@name='iiwa_link_0']/collision[1]\n",
      "Unknown tag \"self_collision_checking\" in /robot[@name='iiwa7']/link[@name='iiwa_link_0']\n",
      "Unknown tag \"material\" in /robot[@name='iiwa7']/link[@name='iiwa_link_1']/collision[1]\n",
      "Unknown tag \"material\" in /robot[@name='iiwa7']/link[@name='iiwa_link_2']/collision[1]\n",
      "Unknown tag \"material\" in /robot[@name='iiwa7']/link[@name='iiwa_link_3']/collision[1]\n",
      "Unknown tag \"material\" in /robot[@name='iiwa7']/link[@name='iiwa_link_4']/collision[1]\n",
      "Unknown tag \"material\" in /robot[@name='iiwa7']/link[@name='iiwa_link_5']/collision[1]\n",
      "Unknown tag \"material\" in /robot[@name='iiwa7']/link[@name='iiwa_link_6']/collision[1]\n",
      "Unknown tag \"material\" in /robot[@name='iiwa7']/link[@name='iiwa_link_7']/collision[1]\n",
      "Unknown tag \"hardwareInterface\" in /robot[@name='iiwa7']/transmission[@name='iiwa_tran_1']/actuator[@name='iiwa_motor_1']\n",
      "Unknown tag \"robotNamespace\" in /robot[@name='iiwa7']/transmission[@name='iiwa_tran_1']\n",
      "Unknown tag \"hardwareInterface\" in /robot[@name='iiwa7']/transmission[@name='iiwa_tran_2']/actuator[@name='iiwa_motor_2']\n",
      "Unknown tag \"robotNamespace\" in /robot[@name='iiwa7']/transmission[@name='iiwa_tran_2']\n",
      "Unknown tag \"hardwareInterface\" in /robot[@name='iiwa7']/transmission[@name='iiwa_tran_3']/actuator[@name='iiwa_motor_3']\n",
      "Unknown tag \"robotNamespace\" in /robot[@name='iiwa7']/transmission[@name='iiwa_tran_3']\n",
      "Unknown tag \"hardwareInterface\" in /robot[@name='iiwa7']/transmission[@name='iiwa_tran_4']/actuator[@name='iiwa_motor_4']\n",
      "Unknown tag \"robotNamespace\" in /robot[@name='iiwa7']/transmission[@name='iiwa_tran_4']\n",
      "Unknown tag \"hardwareInterface\" in /robot[@name='iiwa7']/transmission[@name='iiwa_tran_5']/actuator[@name='iiwa_motor_5']\n",
      "Unknown tag \"robotNamespace\" in /robot[@name='iiwa7']/transmission[@name='iiwa_tran_5']\n",
      "Unknown tag \"hardwareInterface\" in /robot[@name='iiwa7']/transmission[@name='iiwa_tran_6']/actuator[@name='iiwa_motor_6']\n",
      "Unknown tag \"robotNamespace\" in /robot[@name='iiwa7']/transmission[@name='iiwa_tran_6']\n",
      "Unknown tag \"hardwareInterface\" in /robot[@name='iiwa7']/transmission[@name='iiwa_tran_7']/actuator[@name='iiwa_motor_7']\n",
      "Unknown tag \"robotNamespace\" in /robot[@name='iiwa7']/transmission[@name='iiwa_tran_7']\n"
     ]
    }
   ],
   "execution_count": 1
  },
  {
   "metadata": {
    "ExecuteTime": {
     "end_time": "2025-02-13T15:18:29.855430Z",
     "start_time": "2025-02-13T15:18:29.839898Z"
    }
   },
   "cell_type": "code",
   "source": "r.qh",
   "id": "55fbb404005444d",
   "outputs": [
    {
     "data": {
      "text/plain": [
       "array([ 0.07941064,  1.77857954,  0.44877399,  0.62444235,  0.29191241,\n",
       "        1.55038098,  0.61655537,  0.36046541,  0.4311105 ,  1.76264807,\n",
       "        1.02352552,  0.9226552 ,  1.54144452,  0.48900141, -0.08175917,\n",
       "        1.3566044 ])"
      ]
     },
     "execution_count": 6,
     "metadata": {},
     "output_type": "execute_result"
    }
   ],
   "execution_count": 6
  },
  {
   "metadata": {
    "ExecuteTime": {
     "end_time": "2025-02-13T15:19:19.285879Z",
     "start_time": "2025-02-13T15:18:42.887909Z"
    }
   },
   "cell_type": "code",
   "source": [
    "#pre-defined pose\n",
    "home_pose = np.array([ 0.03063398, -0.15441399,  0.82104033,  0.82512679,  0.00664029,\n",
    "       -0.2039733 ,  0.80409743,  0.        , -0.10271061, -0.06070025,\n",
    "        0.90650362,  0.81377007,  0.86300686,  0.44554398,  0.08874171,\n",
    "        0.77574977])\n",
    "\n",
    "catch_pose = np.array([-0.50889807,  1.74874918,  0.12737114,  0.39226041,  0.07008444,\n",
    "        1.64808905,  1.36754356,  0.21940653,  0.0937576 ,  1.77053021,\n",
    "        1.36580765,  0.55991777,  0.94150295,  0.14131779, -0.24060529,\n",
    "        0.96755097])\n",
    "\n",
    "envelop_pose = np.array([ 0.07941064,  1.77857954,  0.44877399,  0.62444235,  0.29191241,\n",
    "        1.55038098,  0.61655537,  0.36046541,  0.4311105 ,  1.76264807,\n",
    "        1.02352552,  0.9226552 ,  1.54144452,  0.48900141, -0.08175917,\n",
    "        1.3566044 ])\n",
    "\n",
    "while True:\n",
    "    r.move_to_joints(home_pose,vel=[0.2,8.0])\n",
    "    rospy.sleep(2)\n",
    "    r.move_to_joints(envelop_pose, vel=[0.2,8.0])\n",
    "    rospy.sleep(2)"
   ],
   "id": "c3e280fe1fbb1f47",
   "outputs": [
    {
     "name": "stdout",
     "output_type": "stream",
     "text": [
      "Linear interpolation by 48 joints\n",
      "Trajectory has been executed.\n",
      "Linear interpolation by 47 joints\n",
      "Trajectory has been executed.\n",
      "Linear interpolation by 48 joints\n",
      "Trajectory has been executed.\n",
      "Linear interpolation by 47 joints\n",
      "Trajectory has been executed.\n",
      "Linear interpolation by 47 joints\n",
      "Trajectory has been executed.\n",
      "Linear interpolation by 48 joints\n",
      "Trajectory has been executed.\n",
      "Linear interpolation by 48 joints\n",
      "Trajectory has been executed.\n",
      "Linear interpolation by 48 joints\n",
      "Trajectory has been executed.\n",
      "Linear interpolation by 47 joints\n",
      "Trajectory has been executed.\n",
      "Linear interpolation by 48 joints\n",
      "Trajectory has been executed.\n",
      "Linear interpolation by 47 joints\n",
      "Trajectory has been executed.\n",
      "Linear interpolation by 48 joints\n",
      "Trajectory has been executed.\n",
      "Linear interpolation by 48 joints\n",
      "Trajectory has been executed.\n",
      "Linear interpolation by 48 joints\n",
      "Trajectory has been executed.\n",
      "Linear interpolation by 46 joints\n",
      "Trajectory has been executed.\n",
      "Linear interpolation by 48 joints\n",
      "Trajectory has been executed.\n",
      "Linear interpolation by 48 joints\n",
      "Trajectory has been executed.\n"
     ]
    },
    {
     "ename": "KeyboardInterrupt",
     "evalue": "",
     "output_type": "error",
     "traceback": [
      "\u001B[0;31m---------------------------------------------------------------------------\u001B[0m",
      "\u001B[0;31mKeyboardInterrupt\u001B[0m                         Traceback (most recent call last)",
      "Cell \u001B[0;32mIn[7], line 19\u001B[0m\n\u001B[1;32m     17\u001B[0m \u001B[38;5;28;01mwhile\u001B[39;00m \u001B[38;5;28;01mTrue\u001B[39;00m:\n\u001B[1;32m     18\u001B[0m     r\u001B[38;5;241m.\u001B[39mmove_to_joints(home_pose,vel\u001B[38;5;241m=\u001B[39m[\u001B[38;5;241m0.2\u001B[39m,\u001B[38;5;241m8.0\u001B[39m])\n\u001B[0;32m---> 19\u001B[0m     \u001B[43mrospy\u001B[49m\u001B[38;5;241;43m.\u001B[39;49m\u001B[43msleep\u001B[49m\u001B[43m(\u001B[49m\u001B[38;5;241;43m2\u001B[39;49m\u001B[43m)\u001B[49m\n\u001B[1;32m     20\u001B[0m     r\u001B[38;5;241m.\u001B[39mmove_to_joints(envelop_pose, vel\u001B[38;5;241m=\u001B[39m[\u001B[38;5;241m0.2\u001B[39m,\u001B[38;5;241m8.0\u001B[39m])\n\u001B[1;32m     21\u001B[0m     rospy\u001B[38;5;241m.\u001B[39msleep(\u001B[38;5;241m2\u001B[39m)\n",
      "File \u001B[0;32m/opt/ros/noetic/lib/python3/dist-packages/rospy/timer.py:134\u001B[0m, in \u001B[0;36msleep\u001B[0;34m(duration)\u001B[0m\n\u001B[1;32m    132\u001B[0m         \u001B[38;5;28;01mreturn\u001B[39;00m\n\u001B[1;32m    133\u001B[0m     \u001B[38;5;28;01melse\u001B[39;00m:\n\u001B[0;32m--> 134\u001B[0m         \u001B[43mrospy\u001B[49m\u001B[38;5;241;43m.\u001B[39;49m\u001B[43mrostime\u001B[49m\u001B[38;5;241;43m.\u001B[39;49m\u001B[43mwallsleep\u001B[49m\u001B[43m(\u001B[49m\u001B[43mduration\u001B[49m\u001B[43m)\u001B[49m\n\u001B[1;32m    135\u001B[0m \u001B[38;5;28;01melse\u001B[39;00m:\n\u001B[1;32m    136\u001B[0m     initial_rostime \u001B[38;5;241m=\u001B[39m rospy\u001B[38;5;241m.\u001B[39mrostime\u001B[38;5;241m.\u001B[39mget_rostime()\n",
      "File \u001B[0;32m/opt/ros/noetic/lib/python3/dist-packages/rospy/rostime.py:277\u001B[0m, in \u001B[0;36mwallsleep\u001B[0;34m(duration)\u001B[0m\n\u001B[1;32m    275\u001B[0m         \u001B[38;5;28;01mpass\u001B[39;00m\n\u001B[1;32m    276\u001B[0m \u001B[38;5;28;01melse\u001B[39;00m:\n\u001B[0;32m--> 277\u001B[0m     \u001B[43mtime\u001B[49m\u001B[38;5;241;43m.\u001B[39;49m\u001B[43msleep\u001B[49m\u001B[43m(\u001B[49m\u001B[43mduration\u001B[49m\u001B[43m)\u001B[49m\n",
      "\u001B[0;31mKeyboardInterrupt\u001B[0m: "
     ]
    }
   ],
   "execution_count": 7
  },
  {
   "metadata": {
    "ExecuteTime": {
     "end_time": "2025-02-12T15:10:42.652971Z",
     "start_time": "2025-02-12T15:10:42.634047Z"
    }
   },
   "cell_type": "code",
   "source": [
    "# position control\n",
    "r.iiwa_go_home()"
   ],
   "id": "a511c675b2ac23a",
   "outputs": [
    {
     "name": "stdout",
     "output_type": "stream",
     "text": [
      "Linear interpolation by 1 joints\n",
      "Trajectory has been executed.\n"
     ]
    }
   ],
   "execution_count": 10
  },
  {
   "metadata": {
    "ExecuteTime": {
     "end_time": "2025-02-13T14:47:50.358079Z",
     "start_time": "2025-02-13T14:47:50.045270Z"
    }
   },
   "cell_type": "code",
   "source": [
    "# impedance control\n",
    "target_pose = r.x\n",
    "target_pose[0] -=0.2\n",
    "target_pose[2] -=0.2\n",
    "efforts = []\n",
    "r.iiwa_cartesion_impedance_control(target_pose,vel=1.0)\n"
   ],
   "id": "398a55b469d47d4d",
   "outputs": [
    {
     "name": "stdout",
     "output_type": "stream",
     "text": [
      "399\n"
     ]
    }
   ],
   "execution_count": 4
  },
  {
   "metadata": {
    "ExecuteTime": {
     "end_time": "2025-02-13T14:37:03.323432Z",
     "start_time": "2025-02-13T14:37:03.305655Z"
    }
   },
   "cell_type": "code",
   "source": "",
   "id": "438bc9618532f16e",
   "outputs": [
    {
     "data": {
      "text/plain": [
       "array([-4.43602409e-02,  5.12320455e+01, -5.28489058e+00, -1.99096786e+01,\n",
       "        3.42465839e-01, -7.67628860e-03,  3.37089195e-02])"
      ]
     },
     "execution_count": 102,
     "metadata": {},
     "output_type": "execute_result"
    }
   ],
   "execution_count": 102
  },
  {
   "metadata": {
    "ExecuteTime": {
     "end_time": "2025-02-12T15:23:25.348629Z",
     "start_time": "2025-02-12T15:22:43.694877Z"
    }
   },
   "cell_type": "code",
   "source": [
    "# move along a circle under impedance control\n",
    "def generate_circle_via_points(current_pose, radius=0.05, num_points=10):\n",
    "    x0, y0, z0 = current_pose[:3]\n",
    "    center_x = x0 - radius\n",
    "    center_y = y0\n",
    "    center_z = z0\n",
    "\n",
    "    theta_array = np.linspace(0, 2*math.pi, num_points)\n",
    "\n",
    "    via_points = np.zeros((num_points, 7))\n",
    "    for i, theta in enumerate(theta_array):\n",
    "        # x = center_x + radius*cos(theta), y = center_y + radius*sin(theta)\n",
    "        x = center_x + radius * math.cos(theta)\n",
    "        y = center_y + radius * math.sin(theta)\n",
    "        z = center_z\n",
    "        via_points[i, :3] = np.array([x, y, z])\n",
    "\n",
    "        via_points[i, 3:] = current_pose[3:]\n",
    "    return via_points\n",
    "\n",
    "current_pose = r.x\n",
    "via_points = generate_circle_via_points(current_pose, radius=0.2, num_points=20)\n",
    "\n",
    "r.iiwa_cartesion_impedance_control(via_points)"
   ],
   "id": "9acb26644ee35fc0",
   "outputs": [],
   "execution_count": 5
  }
 ],
 "metadata": {
  "kernelspec": {
   "display_name": "Python 3",
   "language": "python",
   "name": "python3"
  },
  "language_info": {
   "codemirror_mode": {
    "name": "ipython",
    "version": 2
   },
   "file_extension": ".py",
   "mimetype": "text/x-python",
   "name": "python",
   "nbconvert_exporter": "python",
   "pygments_lexer": "ipython2",
   "version": "2.7.6"
  }
 },
 "nbformat": 4,
 "nbformat_minor": 5
}
