{
 "cells": [
  {
   "cell_type": "code",
   "execution_count": 1,
   "metadata": {
    "collapsed": true,
    "pycharm": {
     "name": "#%%\n"
    }
   },
   "outputs": [],
   "source": [
    "import numpy as np\n",
    "import trimesh\n",
    "\n"
   ]
  },
  {
   "cell_type": "code",
   "execution_count": 2,
   "outputs": [
    {
     "name": "stdout",
     "output_type": "stream",
     "text": [
      "banana\n",
      "<inertial pos=\"-0.009936102440002158 0.004072679186328214 0.01712688923116843\" mass=\"0.001\" fullinertia=\"2.1845116025836455e-06 4.5160641943036086e-07 2.486640869788388e-06 -6.454664859043533e-07 1.5460056391352563e-08 -1.2944548120843963e-08\" />\n",
      "\n",
      "bottle\n",
      "<inertial pos=\"-0.015054346191835743 -0.02310937838026133 0.07504230732494276\" mass=\"0.001\" fullinertia=\"2.430464042237192e-06 2.6748595318166904e-06 7.015112534062741e-07 1.2578584266485863e-07 -8.248848177586825e-09 -1.1689986877112397e-08\" />\n",
      "\n",
      "chip_can\n",
      "<inertial pos=\"-8.963122858409468e-09 0.09432490407944878 -3.18747072778518e-05\" mass=\"0.001\" fullinertia=\"5.363322967059961e-06 7.067600217671682e-07 5.363261224796618e-06 -5.546109067138381e-13 -1.6654768074641885e-11 -3.740678106916932e-13\" />\n",
      "\n"
     ]
    },
    {
     "ename": "ValueError",
     "evalue": "string is not a file: soft_scrub/soft_scrub.obj",
     "output_type": "error",
     "traceback": [
      "\u001B[0;31m---------------------------------------------------------------------------\u001B[0m",
      "\u001B[0;31mValueError\u001B[0m                                Traceback (most recent call last)",
      "Cell \u001B[0;32mIn[2], line 9\u001B[0m\n\u001B[1;32m      7\u001B[0m \u001B[38;5;28;01melse\u001B[39;00m:\n\u001B[1;32m      8\u001B[0m     path \u001B[38;5;241m=\u001B[39m i \u001B[38;5;241m+\u001B[39m \u001B[38;5;124m'\u001B[39m\u001B[38;5;124m/textured.obj\u001B[39m\u001B[38;5;124m'\u001B[39m\n\u001B[0;32m----> 9\u001B[0m mesh \u001B[38;5;241m=\u001B[39m \u001B[43mtrimesh\u001B[49m\u001B[38;5;241;43m.\u001B[39;49m\u001B[43mload\u001B[49m\u001B[43m(\u001B[49m\u001B[43mpath\u001B[49m\u001B[43m)\u001B[49m\n\u001B[1;32m     10\u001B[0m mass_scale \u001B[38;5;241m=\u001B[39m unit_mass \u001B[38;5;241m/\u001B[39m mesh\u001B[38;5;241m.\u001B[39mmass\n\u001B[1;32m     11\u001B[0m inertia \u001B[38;5;241m=\u001B[39m mesh\u001B[38;5;241m.\u001B[39mmass_properties[\u001B[38;5;124m'\u001B[39m\u001B[38;5;124minertia\u001B[39m\u001B[38;5;124m'\u001B[39m] \u001B[38;5;241m*\u001B[39m mass_scale\n",
      "File \u001B[0;32m~/miniconda3/envs/mujoco/lib/python3.9/site-packages/trimesh/exchange/load.py:116\u001B[0m, in \u001B[0;36mload\u001B[0;34m(file_obj, file_type, resolver, force, **kwargs)\u001B[0m\n\u001B[1;32m    108\u001B[0m     \u001B[38;5;28;01mreturn\u001B[39;00m file_obj\n\u001B[1;32m    110\u001B[0m \u001B[38;5;66;03m# parse the file arguments into clean loadable form\u001B[39;00m\n\u001B[1;32m    111\u001B[0m (file_obj,  \u001B[38;5;66;03m# file- like object\u001B[39;00m\n\u001B[1;32m    112\u001B[0m  file_type,  \u001B[38;5;66;03m# str, what kind of file\u001B[39;00m\n\u001B[1;32m    113\u001B[0m  metadata,  \u001B[38;5;66;03m# dict, any metadata from file name\u001B[39;00m\n\u001B[1;32m    114\u001B[0m  opened,    \u001B[38;5;66;03m# bool, did we open the file ourselves\u001B[39;00m\n\u001B[1;32m    115\u001B[0m  resolver   \u001B[38;5;66;03m# object to load referenced resources\u001B[39;00m\n\u001B[0;32m--> 116\u001B[0m  ) \u001B[38;5;241m=\u001B[39m \u001B[43mparse_file_args\u001B[49m\u001B[43m(\u001B[49m\u001B[43mfile_obj\u001B[49m\u001B[38;5;241;43m=\u001B[39;49m\u001B[43mfile_obj\u001B[49m\u001B[43m,\u001B[49m\n\u001B[1;32m    117\u001B[0m \u001B[43m                     \u001B[49m\u001B[43mfile_type\u001B[49m\u001B[38;5;241;43m=\u001B[39;49m\u001B[43mfile_type\u001B[49m\u001B[43m,\u001B[49m\n\u001B[1;32m    118\u001B[0m \u001B[43m                     \u001B[49m\u001B[43mresolver\u001B[49m\u001B[38;5;241;43m=\u001B[39;49m\u001B[43mresolver\u001B[49m\u001B[43m)\u001B[49m\n\u001B[1;32m    120\u001B[0m \u001B[38;5;28;01mtry\u001B[39;00m:\n\u001B[1;32m    121\u001B[0m     \u001B[38;5;28;01mif\u001B[39;00m \u001B[38;5;28misinstance\u001B[39m(file_obj, \u001B[38;5;28mdict\u001B[39m):\n\u001B[1;32m    122\u001B[0m         \u001B[38;5;66;03m# if we've been passed a dict treat it as kwargs\u001B[39;00m\n",
      "File \u001B[0;32m~/miniconda3/envs/mujoco/lib/python3.9/site-packages/trimesh/exchange/load.py:630\u001B[0m, in \u001B[0;36mparse_file_args\u001B[0;34m(file_obj, file_type, resolver, **kwargs)\u001B[0m\n\u001B[1;32m    627\u001B[0m             \u001B[38;5;28;01mraise\u001B[39;00m \u001B[38;5;167;01mValueError\u001B[39;00m(\n\u001B[1;32m    628\u001B[0m                 \u001B[38;5;124m'\u001B[39m\u001B[38;5;124muse load_remote to load URL: \u001B[39m\u001B[38;5;132;01m{}\u001B[39;00m\u001B[38;5;124m'\u001B[39m\u001B[38;5;241m.\u001B[39mformat(file_obj))\n\u001B[1;32m    629\u001B[0m         \u001B[38;5;28;01melif\u001B[39;00m file_type \u001B[38;5;129;01mis\u001B[39;00m \u001B[38;5;28;01mNone\u001B[39;00m:\n\u001B[0;32m--> 630\u001B[0m             \u001B[38;5;28;01mraise\u001B[39;00m \u001B[38;5;167;01mValueError\u001B[39;00m(\u001B[38;5;124m'\u001B[39m\u001B[38;5;124mstring is not a file: \u001B[39m\u001B[38;5;132;01m{}\u001B[39;00m\u001B[38;5;124m'\u001B[39m\u001B[38;5;241m.\u001B[39mformat(file_obj))\n\u001B[1;32m    632\u001B[0m \u001B[38;5;28;01mif\u001B[39;00m file_type \u001B[38;5;129;01mis\u001B[39;00m \u001B[38;5;28;01mNone\u001B[39;00m:\n\u001B[1;32m    633\u001B[0m     file_type \u001B[38;5;241m=\u001B[39m file_obj\u001B[38;5;241m.\u001B[39m\u001B[38;5;18m__class__\u001B[39m\u001B[38;5;241m.\u001B[39m\u001B[38;5;18m__name__\u001B[39m\n",
      "\u001B[0;31mValueError\u001B[0m: string is not a file: soft_scrub/soft_scrub.obj"
     ]
    }
   ],
   "source": [
    "obj_names = ['banana', 'bottle', 'chip_can', 'soft_scrub', 'sugar_box']\n",
    "unit_mass = 0.001\n",
    "\n",
    "for i in obj_names:\n",
    "    if i in ['chip_can', 'soft_scrub']:\n",
    "        path = i + '/' + i +'.obj'\n",
    "    else:\n",
    "        path = i + '/textured.obj'\n",
    "    mesh = trimesh.load(path)\n",
    "    mass_scale = unit_mass / mesh.mass\n",
    "    inertia = mesh.mass_properties['inertia'] * mass_scale\n",
    "    print(i)\n",
    "    print('<inertial pos=\"' + str(mesh.mass_properties['center_mass'][0]) + ' ' +\n",
    "          str(mesh.mass_properties['center_mass'][1]) + ' ' + str(mesh.mass_properties['center_mass'][2]) + '\" mass=\"'+str(unit_mass) +'\" ' + 'fullinertia=\"' + str(inertia[0,0]) + ' ' + str(inertia[1,1]) +' ' +  str(inertia[2,2]) + ' ' + str(inertia[0,1]) + ' ' + str(inertia[0,2]) + ' ' + str(inertia[1,2]) + '\" />' + '\\n')\n",
    "\n",
    "# copy the inertial data to the `ycb_bodies.xml` file"
   ],
   "metadata": {
    "collapsed": false,
    "pycharm": {
     "name": "#%%\n"
    }
   }
  },
  {
   "cell_type": "code",
   "execution_count": 20,
   "outputs": [
    {
     "data": {
      "text/plain": "{'density': 1.0,\n 'mass': 0.000637932730363638,\n 'volume': 0.000637932730363638,\n 'center_mass': array([-0.00769842, -0.01707816,  0.08602381]),\n 'inertia': array([[ 2.01141716e-06, -1.17797783e-08,  5.97995959e-08],\n        [-1.17797783e-08,  1.68706160e-06, -2.03619377e-08],\n        [ 5.97995959e-08, -2.03619377e-08,  5.06389755e-07]])}"
     },
     "execution_count": 20,
     "metadata": {},
     "output_type": "execute_result"
    }
   ],
   "source": [
    "mesh.mass_properties"
   ],
   "metadata": {
    "collapsed": false,
    "pycharm": {
     "name": "#%%\n"
    }
   }
  }
 ],
 "metadata": {
  "kernelspec": {
   "display_name": "Python 3",
   "language": "python",
   "name": "python3"
  },
  "language_info": {
   "codemirror_mode": {
    "name": "ipython",
    "version": 2
   },
   "file_extension": ".py",
   "mimetype": "text/x-python",
   "name": "python",
   "nbconvert_exporter": "python",
   "pygments_lexer": "ipython2",
   "version": "2.7.6"
  }
 },
 "nbformat": 4,
 "nbformat_minor": 0
}