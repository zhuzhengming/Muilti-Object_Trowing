{
 "cells": [
  {
   "metadata": {
    "ExecuteTime": {
     "end_time": "2025-02-20T15:48:49.309628Z",
     "start_time": "2025-02-20T15:48:48.707619Z"
    }
   },
   "cell_type": "code",
   "source": [
    "import sys\n",
    "sys.path.append('../')\n",
    "import copy\n",
    "import math\n",
    "import numpy as np\n",
    "from utils.controller_utils import Robot\n",
    "import rospy\n",
    "import tools.rotations as rot\n",
    "import matplotlib\n",
    "import matplotlib.pyplot as plt\n",
    "matplotlib.use('Qt5Agg')\n",
    "\n",
    "%load_ext autoreload\n",
    "%autoreload 2\n",
    "\n",
    "r = Robot(optitrack_frame_names=['iiwa_base7', 'realsense_m'], position_control=False)\n",
    "\n",
    "target_pose = np.copy(r.q)\n",
    "target_pose[0] += 0.3\n",
    "r._iiwa_joint_control(target_pose, vel=0.5)\n"
   ],
   "id": "f41f1f7340dfc443",
   "outputs": [
    {
     "name": "stdout",
     "output_type": "stream",
     "text": [
      "The autoreload extension is already loaded. To reload it, use:\n",
      "  %reload_ext autoreload\n",
      "Kinematic model has been loaded from ../kinematics/q2pose_left.txt\n"
     ]
    },
    {
     "ename": "ConnectionRefusedError",
     "evalue": "[Errno 111] Connection refused",
     "output_type": "error",
     "traceback": [
      "\u001B[0;31m---------------------------------------------------------------------------\u001B[0m",
      "\u001B[0;31mConnectionRefusedError\u001B[0m                    Traceback (most recent call last)",
      "Cell \u001B[0;32mIn[4], line 16\u001B[0m\n\u001B[1;32m     13\u001B[0m get_ipython()\u001B[38;5;241m.\u001B[39mrun_line_magic(\u001B[38;5;124m'\u001B[39m\u001B[38;5;124mload_ext\u001B[39m\u001B[38;5;124m'\u001B[39m, \u001B[38;5;124m'\u001B[39m\u001B[38;5;124mautoreload\u001B[39m\u001B[38;5;124m'\u001B[39m)\n\u001B[1;32m     14\u001B[0m get_ipython()\u001B[38;5;241m.\u001B[39mrun_line_magic(\u001B[38;5;124m'\u001B[39m\u001B[38;5;124mautoreload\u001B[39m\u001B[38;5;124m'\u001B[39m, \u001B[38;5;124m'\u001B[39m\u001B[38;5;124m2\u001B[39m\u001B[38;5;124m'\u001B[39m)\n\u001B[0;32m---> 16\u001B[0m r \u001B[38;5;241m=\u001B[39m \u001B[43mRobot\u001B[49m\u001B[43m(\u001B[49m\u001B[43moptitrack_frame_names\u001B[49m\u001B[38;5;241;43m=\u001B[39;49m\u001B[43m[\u001B[49m\u001B[38;5;124;43m'\u001B[39;49m\u001B[38;5;124;43miiwa_base7\u001B[39;49m\u001B[38;5;124;43m'\u001B[39;49m\u001B[43m,\u001B[49m\u001B[43m \u001B[49m\u001B[38;5;124;43m'\u001B[39;49m\u001B[38;5;124;43mrealsense_m\u001B[39;49m\u001B[38;5;124;43m'\u001B[39;49m\u001B[43m]\u001B[49m\u001B[43m,\u001B[49m\u001B[43m \u001B[49m\u001B[43mposition_control\u001B[49m\u001B[38;5;241;43m=\u001B[39;49m\u001B[38;5;28;43;01mFalse\u001B[39;49;00m\u001B[43m)\u001B[49m\n\u001B[1;32m     18\u001B[0m target_pose \u001B[38;5;241m=\u001B[39m np\u001B[38;5;241m.\u001B[39mcopy(r\u001B[38;5;241m.\u001B[39mq)\n\u001B[1;32m     19\u001B[0m target_pose[\u001B[38;5;241m0\u001B[39m] \u001B[38;5;241m+\u001B[39m\u001B[38;5;241m=\u001B[39m \u001B[38;5;241m0.3\u001B[39m\n",
      "File \u001B[0;32m~/workspace/Object_throwing/Muilti-Object_Trowing/scripts/../utils/controller_utils.py:105\u001B[0m, in \u001B[0;36mRobot.__init__\u001B[0;34m(self, optitrack_frame_names, position_control, calibration, camera, camera_object_name, path_prefix)\u001B[0m\n\u001B[1;32m    102\u001B[0m \u001B[38;5;28mself\u001B[39m\u001B[38;5;241m.\u001B[39m_iiwa_torque_pub \u001B[38;5;241m=\u001B[39m rospy\u001B[38;5;241m.\u001B[39mPublisher(\u001B[38;5;124m\"\u001B[39m\u001B[38;5;124m/iiwa/TorqueController/command\u001B[39m\u001B[38;5;124m\"\u001B[39m, Float64MultiArray,\n\u001B[1;32m    103\u001B[0m                                         queue_size\u001B[38;5;241m=\u001B[39m\u001B[38;5;241m10\u001B[39m)\n\u001B[1;32m    104\u001B[0m \u001B[38;5;66;03m# parameters of PID\u001B[39;00m\n\u001B[0;32m--> 105\u001B[0m \u001B[38;5;28mself\u001B[39m\u001B[38;5;241m.\u001B[39m_joint_kp \u001B[38;5;241m=\u001B[39m np\u001B[38;5;241m.\u001B[39marray(\u001B[43mrospy\u001B[49m\u001B[38;5;241;43m.\u001B[39;49m\u001B[43mget_param\u001B[49m\u001B[43m(\u001B[49m\u001B[38;5;124;43m'\u001B[39;49m\u001B[38;5;124;43m/PD/joint_kp\u001B[39;49m\u001B[38;5;124;43m'\u001B[39;49m\u001B[43m)\u001B[49m)\n\u001B[1;32m    106\u001B[0m \u001B[38;5;28mself\u001B[39m\u001B[38;5;241m.\u001B[39m_joint_kd \u001B[38;5;241m=\u001B[39m np\u001B[38;5;241m.\u001B[39marray(rospy\u001B[38;5;241m.\u001B[39mget_param(\u001B[38;5;124m'\u001B[39m\u001B[38;5;124m/PD/joint_kd\u001B[39m\u001B[38;5;124m'\u001B[39m))\n\u001B[1;32m    107\u001B[0m \u001B[38;5;28mself\u001B[39m\u001B[38;5;241m.\u001B[39mq_cmd \u001B[38;5;241m=\u001B[39m \u001B[38;5;28;01mNone\u001B[39;00m\n",
      "File \u001B[0;32m/opt/ros/noetic/lib/python3/dist-packages/rospy/client.py:467\u001B[0m, in \u001B[0;36mget_param\u001B[0;34m(param_name, default)\u001B[0m\n\u001B[1;32m    465\u001B[0m \u001B[38;5;28;01mtry\u001B[39;00m:\n\u001B[1;32m    466\u001B[0m     _init_param_server()\n\u001B[0;32m--> 467\u001B[0m     \u001B[38;5;28;01mreturn\u001B[39;00m \u001B[43m_param_server\u001B[49m\u001B[43m[\u001B[49m\u001B[43mparam_name\u001B[49m\u001B[43m]\u001B[49m \u001B[38;5;66;03m#MasterProxy does all the magic for us\u001B[39;00m\n\u001B[1;32m    468\u001B[0m \u001B[38;5;28;01mexcept\u001B[39;00m \u001B[38;5;167;01mKeyError\u001B[39;00m:\n\u001B[1;32m    469\u001B[0m     \u001B[38;5;28;01mif\u001B[39;00m default \u001B[38;5;241m!=\u001B[39m _unspecified:\n",
      "File \u001B[0;32m/opt/ros/noetic/lib/python3/dist-packages/rospy/msproxy.py:121\u001B[0m, in \u001B[0;36mMasterProxy.__getitem__\u001B[0;34m(self, key)\u001B[0m\n\u001B[1;32m    119\u001B[0m \u001B[38;5;28;01mexcept\u001B[39;00m \u001B[38;5;167;01mKeyError\u001B[39;00m:\n\u001B[1;32m    120\u001B[0m     \u001B[38;5;28;01mpass\u001B[39;00m\n\u001B[0;32m--> 121\u001B[0m code, msg, value \u001B[38;5;241m=\u001B[39m \u001B[38;5;28;43mself\u001B[39;49m\u001B[38;5;241;43m.\u001B[39;49m\u001B[43mtarget\u001B[49m\u001B[38;5;241;43m.\u001B[39;49m\u001B[43mgetParam\u001B[49m\u001B[43m(\u001B[49m\u001B[43mrospy\u001B[49m\u001B[38;5;241;43m.\u001B[39;49m\u001B[43mnames\u001B[49m\u001B[38;5;241;43m.\u001B[39;49m\u001B[43mget_caller_id\u001B[49m\u001B[43m(\u001B[49m\u001B[43m)\u001B[49m\u001B[43m,\u001B[49m\u001B[43m \u001B[49m\u001B[43mresolved_key\u001B[49m\u001B[43m)\u001B[49m\n\u001B[1;32m    122\u001B[0m \u001B[38;5;28;01mif\u001B[39;00m code \u001B[38;5;241m!=\u001B[39m \u001B[38;5;241m1\u001B[39m: \u001B[38;5;66;03m#unwrap value with Python semantics\u001B[39;00m\n\u001B[1;32m    123\u001B[0m     \u001B[38;5;28;01mraise\u001B[39;00m \u001B[38;5;167;01mKeyError\u001B[39;00m(key)\n",
      "File \u001B[0;32m~/anaconda3/envs/iiwa/lib/python3.9/xmlrpc/client.py:1122\u001B[0m, in \u001B[0;36m_Method.__call__\u001B[0;34m(self, *args)\u001B[0m\n\u001B[1;32m   1121\u001B[0m \u001B[38;5;28;01mdef\u001B[39;00m\u001B[38;5;250m \u001B[39m\u001B[38;5;21m__call__\u001B[39m(\u001B[38;5;28mself\u001B[39m, \u001B[38;5;241m*\u001B[39margs):\n\u001B[0;32m-> 1122\u001B[0m     \u001B[38;5;28;01mreturn\u001B[39;00m \u001B[38;5;28;43mself\u001B[39;49m\u001B[38;5;241;43m.\u001B[39;49m\u001B[43m__send\u001B[49m\u001B[43m(\u001B[49m\u001B[38;5;28;43mself\u001B[39;49m\u001B[38;5;241;43m.\u001B[39;49m\u001B[43m__name\u001B[49m\u001B[43m,\u001B[49m\u001B[43m \u001B[49m\u001B[43margs\u001B[49m\u001B[43m)\u001B[49m\n",
      "File \u001B[0;32m/opt/ros/noetic/lib/python3/dist-packages/rospy/core.py:669\u001B[0m, in \u001B[0;36m_LockedServerProxy._ServerProxy__request\u001B[0;34m(self, methodname, params)\u001B[0m\n\u001B[1;32m    667\u001B[0m \u001B[38;5;28;01mdef\u001B[39;00m\u001B[38;5;250m \u001B[39m\u001B[38;5;21m_ServerProxy__request\u001B[39m(\u001B[38;5;28mself\u001B[39m, methodname, params):\n\u001B[1;32m    668\u001B[0m     \u001B[38;5;28;01mwith\u001B[39;00m \u001B[38;5;28mself\u001B[39m\u001B[38;5;241m.\u001B[39m_lock:\n\u001B[0;32m--> 669\u001B[0m         \u001B[38;5;28;01mreturn\u001B[39;00m \u001B[43mxmlrpcclient\u001B[49m\u001B[38;5;241;43m.\u001B[39;49m\u001B[43mServerProxy\u001B[49m\u001B[38;5;241;43m.\u001B[39;49m\u001B[43m_ServerProxy__request\u001B[49m\u001B[43m(\u001B[49m\n\u001B[1;32m    670\u001B[0m \u001B[43m            \u001B[49m\u001B[38;5;28;43mself\u001B[39;49m\u001B[43m,\u001B[49m\u001B[43m \u001B[49m\u001B[43mmethodname\u001B[49m\u001B[43m,\u001B[49m\u001B[43m \u001B[49m\u001B[43mparams\u001B[49m\u001B[43m)\u001B[49m\n",
      "File \u001B[0;32m~/anaconda3/envs/iiwa/lib/python3.9/xmlrpc/client.py:1464\u001B[0m, in \u001B[0;36mServerProxy.__request\u001B[0;34m(self, methodname, params)\u001B[0m\n\u001B[1;32m   1458\u001B[0m \u001B[38;5;28;01mdef\u001B[39;00m\u001B[38;5;250m \u001B[39m\u001B[38;5;21m__request\u001B[39m(\u001B[38;5;28mself\u001B[39m, methodname, params):\n\u001B[1;32m   1459\u001B[0m     \u001B[38;5;66;03m# call a method on the remote server\u001B[39;00m\n\u001B[1;32m   1461\u001B[0m     request \u001B[38;5;241m=\u001B[39m dumps(params, methodname, encoding\u001B[38;5;241m=\u001B[39m\u001B[38;5;28mself\u001B[39m\u001B[38;5;241m.\u001B[39m__encoding,\n\u001B[1;32m   1462\u001B[0m                     allow_none\u001B[38;5;241m=\u001B[39m\u001B[38;5;28mself\u001B[39m\u001B[38;5;241m.\u001B[39m__allow_none)\u001B[38;5;241m.\u001B[39mencode(\u001B[38;5;28mself\u001B[39m\u001B[38;5;241m.\u001B[39m__encoding, \u001B[38;5;124m'\u001B[39m\u001B[38;5;124mxmlcharrefreplace\u001B[39m\u001B[38;5;124m'\u001B[39m)\n\u001B[0;32m-> 1464\u001B[0m     response \u001B[38;5;241m=\u001B[39m \u001B[38;5;28;43mself\u001B[39;49m\u001B[38;5;241;43m.\u001B[39;49m\u001B[43m__transport\u001B[49m\u001B[38;5;241;43m.\u001B[39;49m\u001B[43mrequest\u001B[49m\u001B[43m(\u001B[49m\n\u001B[1;32m   1465\u001B[0m \u001B[43m        \u001B[49m\u001B[38;5;28;43mself\u001B[39;49m\u001B[38;5;241;43m.\u001B[39;49m\u001B[43m__host\u001B[49m\u001B[43m,\u001B[49m\n\u001B[1;32m   1466\u001B[0m \u001B[43m        \u001B[49m\u001B[38;5;28;43mself\u001B[39;49m\u001B[38;5;241;43m.\u001B[39;49m\u001B[43m__handler\u001B[49m\u001B[43m,\u001B[49m\n\u001B[1;32m   1467\u001B[0m \u001B[43m        \u001B[49m\u001B[43mrequest\u001B[49m\u001B[43m,\u001B[49m\n\u001B[1;32m   1468\u001B[0m \u001B[43m        \u001B[49m\u001B[43mverbose\u001B[49m\u001B[38;5;241;43m=\u001B[39;49m\u001B[38;5;28;43mself\u001B[39;49m\u001B[38;5;241;43m.\u001B[39;49m\u001B[43m__verbose\u001B[49m\n\u001B[1;32m   1469\u001B[0m \u001B[43m        \u001B[49m\u001B[43m)\u001B[49m\n\u001B[1;32m   1471\u001B[0m     \u001B[38;5;28;01mif\u001B[39;00m \u001B[38;5;28mlen\u001B[39m(response) \u001B[38;5;241m==\u001B[39m \u001B[38;5;241m1\u001B[39m:\n\u001B[1;32m   1472\u001B[0m         response \u001B[38;5;241m=\u001B[39m response[\u001B[38;5;241m0\u001B[39m]\n",
      "File \u001B[0;32m~/anaconda3/envs/iiwa/lib/python3.9/xmlrpc/client.py:1166\u001B[0m, in \u001B[0;36mTransport.request\u001B[0;34m(self, host, handler, request_body, verbose)\u001B[0m\n\u001B[1;32m   1164\u001B[0m \u001B[38;5;28;01mfor\u001B[39;00m i \u001B[38;5;129;01min\u001B[39;00m (\u001B[38;5;241m0\u001B[39m, \u001B[38;5;241m1\u001B[39m):\n\u001B[1;32m   1165\u001B[0m     \u001B[38;5;28;01mtry\u001B[39;00m:\n\u001B[0;32m-> 1166\u001B[0m         \u001B[38;5;28;01mreturn\u001B[39;00m \u001B[38;5;28;43mself\u001B[39;49m\u001B[38;5;241;43m.\u001B[39;49m\u001B[43msingle_request\u001B[49m\u001B[43m(\u001B[49m\u001B[43mhost\u001B[49m\u001B[43m,\u001B[49m\u001B[43m \u001B[49m\u001B[43mhandler\u001B[49m\u001B[43m,\u001B[49m\u001B[43m \u001B[49m\u001B[43mrequest_body\u001B[49m\u001B[43m,\u001B[49m\u001B[43m \u001B[49m\u001B[43mverbose\u001B[49m\u001B[43m)\u001B[49m\n\u001B[1;32m   1167\u001B[0m     \u001B[38;5;28;01mexcept\u001B[39;00m http\u001B[38;5;241m.\u001B[39mclient\u001B[38;5;241m.\u001B[39mRemoteDisconnected:\n\u001B[1;32m   1168\u001B[0m         \u001B[38;5;28;01mif\u001B[39;00m i:\n",
      "File \u001B[0;32m~/anaconda3/envs/iiwa/lib/python3.9/xmlrpc/client.py:1178\u001B[0m, in \u001B[0;36mTransport.single_request\u001B[0;34m(self, host, handler, request_body, verbose)\u001B[0m\n\u001B[1;32m   1175\u001B[0m \u001B[38;5;28;01mdef\u001B[39;00m\u001B[38;5;250m \u001B[39m\u001B[38;5;21msingle_request\u001B[39m(\u001B[38;5;28mself\u001B[39m, host, handler, request_body, verbose\u001B[38;5;241m=\u001B[39m\u001B[38;5;28;01mFalse\u001B[39;00m):\n\u001B[1;32m   1176\u001B[0m     \u001B[38;5;66;03m# issue XML-RPC request\u001B[39;00m\n\u001B[1;32m   1177\u001B[0m     \u001B[38;5;28;01mtry\u001B[39;00m:\n\u001B[0;32m-> 1178\u001B[0m         http_conn \u001B[38;5;241m=\u001B[39m \u001B[38;5;28;43mself\u001B[39;49m\u001B[38;5;241;43m.\u001B[39;49m\u001B[43msend_request\u001B[49m\u001B[43m(\u001B[49m\u001B[43mhost\u001B[49m\u001B[43m,\u001B[49m\u001B[43m \u001B[49m\u001B[43mhandler\u001B[49m\u001B[43m,\u001B[49m\u001B[43m \u001B[49m\u001B[43mrequest_body\u001B[49m\u001B[43m,\u001B[49m\u001B[43m \u001B[49m\u001B[43mverbose\u001B[49m\u001B[43m)\u001B[49m\n\u001B[1;32m   1179\u001B[0m         resp \u001B[38;5;241m=\u001B[39m http_conn\u001B[38;5;241m.\u001B[39mgetresponse()\n\u001B[1;32m   1180\u001B[0m         \u001B[38;5;28;01mif\u001B[39;00m resp\u001B[38;5;241m.\u001B[39mstatus \u001B[38;5;241m==\u001B[39m \u001B[38;5;241m200\u001B[39m:\n",
      "File \u001B[0;32m~/anaconda3/envs/iiwa/lib/python3.9/xmlrpc/client.py:1291\u001B[0m, in \u001B[0;36mTransport.send_request\u001B[0;34m(self, host, handler, request_body, debug)\u001B[0m\n\u001B[1;32m   1289\u001B[0m headers\u001B[38;5;241m.\u001B[39mappend((\u001B[38;5;124m\"\u001B[39m\u001B[38;5;124mUser-Agent\u001B[39m\u001B[38;5;124m\"\u001B[39m, \u001B[38;5;28mself\u001B[39m\u001B[38;5;241m.\u001B[39muser_agent))\n\u001B[1;32m   1290\u001B[0m \u001B[38;5;28mself\u001B[39m\u001B[38;5;241m.\u001B[39msend_headers(connection, headers)\n\u001B[0;32m-> 1291\u001B[0m \u001B[38;5;28;43mself\u001B[39;49m\u001B[38;5;241;43m.\u001B[39;49m\u001B[43msend_content\u001B[49m\u001B[43m(\u001B[49m\u001B[43mconnection\u001B[49m\u001B[43m,\u001B[49m\u001B[43m \u001B[49m\u001B[43mrequest_body\u001B[49m\u001B[43m)\u001B[49m\n\u001B[1;32m   1292\u001B[0m \u001B[38;5;28;01mreturn\u001B[39;00m connection\n",
      "File \u001B[0;32m~/anaconda3/envs/iiwa/lib/python3.9/xmlrpc/client.py:1321\u001B[0m, in \u001B[0;36mTransport.send_content\u001B[0;34m(self, connection, request_body)\u001B[0m\n\u001B[1;32m   1318\u001B[0m     request_body \u001B[38;5;241m=\u001B[39m gzip_encode(request_body)\n\u001B[1;32m   1320\u001B[0m connection\u001B[38;5;241m.\u001B[39mputheader(\u001B[38;5;124m\"\u001B[39m\u001B[38;5;124mContent-Length\u001B[39m\u001B[38;5;124m\"\u001B[39m, \u001B[38;5;28mstr\u001B[39m(\u001B[38;5;28mlen\u001B[39m(request_body)))\n\u001B[0;32m-> 1321\u001B[0m \u001B[43mconnection\u001B[49m\u001B[38;5;241;43m.\u001B[39;49m\u001B[43mendheaders\u001B[49m\u001B[43m(\u001B[49m\u001B[43mrequest_body\u001B[49m\u001B[43m)\u001B[49m\n",
      "File \u001B[0;32m~/anaconda3/envs/iiwa/lib/python3.9/http/client.py:1280\u001B[0m, in \u001B[0;36mHTTPConnection.endheaders\u001B[0;34m(self, message_body, encode_chunked)\u001B[0m\n\u001B[1;32m   1278\u001B[0m \u001B[38;5;28;01melse\u001B[39;00m:\n\u001B[1;32m   1279\u001B[0m     \u001B[38;5;28;01mraise\u001B[39;00m CannotSendHeader()\n\u001B[0;32m-> 1280\u001B[0m \u001B[38;5;28;43mself\u001B[39;49m\u001B[38;5;241;43m.\u001B[39;49m\u001B[43m_send_output\u001B[49m\u001B[43m(\u001B[49m\u001B[43mmessage_body\u001B[49m\u001B[43m,\u001B[49m\u001B[43m \u001B[49m\u001B[43mencode_chunked\u001B[49m\u001B[38;5;241;43m=\u001B[39;49m\u001B[43mencode_chunked\u001B[49m\u001B[43m)\u001B[49m\n",
      "File \u001B[0;32m~/anaconda3/envs/iiwa/lib/python3.9/http/client.py:1040\u001B[0m, in \u001B[0;36mHTTPConnection._send_output\u001B[0;34m(self, message_body, encode_chunked)\u001B[0m\n\u001B[1;32m   1038\u001B[0m msg \u001B[38;5;241m=\u001B[39m \u001B[38;5;124mb\u001B[39m\u001B[38;5;124m\"\u001B[39m\u001B[38;5;130;01m\\r\u001B[39;00m\u001B[38;5;130;01m\\n\u001B[39;00m\u001B[38;5;124m\"\u001B[39m\u001B[38;5;241m.\u001B[39mjoin(\u001B[38;5;28mself\u001B[39m\u001B[38;5;241m.\u001B[39m_buffer)\n\u001B[1;32m   1039\u001B[0m \u001B[38;5;28;01mdel\u001B[39;00m \u001B[38;5;28mself\u001B[39m\u001B[38;5;241m.\u001B[39m_buffer[:]\n\u001B[0;32m-> 1040\u001B[0m \u001B[38;5;28;43mself\u001B[39;49m\u001B[38;5;241;43m.\u001B[39;49m\u001B[43msend\u001B[49m\u001B[43m(\u001B[49m\u001B[43mmsg\u001B[49m\u001B[43m)\u001B[49m\n\u001B[1;32m   1042\u001B[0m \u001B[38;5;28;01mif\u001B[39;00m message_body \u001B[38;5;129;01mis\u001B[39;00m \u001B[38;5;129;01mnot\u001B[39;00m \u001B[38;5;28;01mNone\u001B[39;00m:\n\u001B[1;32m   1043\u001B[0m \n\u001B[1;32m   1044\u001B[0m     \u001B[38;5;66;03m# create a consistent interface to message_body\u001B[39;00m\n\u001B[1;32m   1045\u001B[0m     \u001B[38;5;28;01mif\u001B[39;00m \u001B[38;5;28mhasattr\u001B[39m(message_body, \u001B[38;5;124m'\u001B[39m\u001B[38;5;124mread\u001B[39m\u001B[38;5;124m'\u001B[39m):\n\u001B[1;32m   1046\u001B[0m         \u001B[38;5;66;03m# Let file-like take precedence over byte-like.  This\u001B[39;00m\n\u001B[1;32m   1047\u001B[0m         \u001B[38;5;66;03m# is needed to allow the current position of mmap'ed\u001B[39;00m\n\u001B[1;32m   1048\u001B[0m         \u001B[38;5;66;03m# files to be taken into account.\u001B[39;00m\n",
      "File \u001B[0;32m~/anaconda3/envs/iiwa/lib/python3.9/http/client.py:980\u001B[0m, in \u001B[0;36mHTTPConnection.send\u001B[0;34m(self, data)\u001B[0m\n\u001B[1;32m    978\u001B[0m \u001B[38;5;28;01mif\u001B[39;00m \u001B[38;5;28mself\u001B[39m\u001B[38;5;241m.\u001B[39msock \u001B[38;5;129;01mis\u001B[39;00m \u001B[38;5;28;01mNone\u001B[39;00m:\n\u001B[1;32m    979\u001B[0m     \u001B[38;5;28;01mif\u001B[39;00m \u001B[38;5;28mself\u001B[39m\u001B[38;5;241m.\u001B[39mauto_open:\n\u001B[0;32m--> 980\u001B[0m         \u001B[38;5;28;43mself\u001B[39;49m\u001B[38;5;241;43m.\u001B[39;49m\u001B[43mconnect\u001B[49m\u001B[43m(\u001B[49m\u001B[43m)\u001B[49m\n\u001B[1;32m    981\u001B[0m     \u001B[38;5;28;01melse\u001B[39;00m:\n\u001B[1;32m    982\u001B[0m         \u001B[38;5;28;01mraise\u001B[39;00m NotConnected()\n",
      "File \u001B[0;32m~/anaconda3/envs/iiwa/lib/python3.9/http/client.py:946\u001B[0m, in \u001B[0;36mHTTPConnection.connect\u001B[0;34m(self)\u001B[0m\n\u001B[1;32m    944\u001B[0m \u001B[38;5;28;01mdef\u001B[39;00m\u001B[38;5;250m \u001B[39m\u001B[38;5;21mconnect\u001B[39m(\u001B[38;5;28mself\u001B[39m):\n\u001B[1;32m    945\u001B[0m \u001B[38;5;250m    \u001B[39m\u001B[38;5;124;03m\"\"\"Connect to the host and port specified in __init__.\"\"\"\u001B[39;00m\n\u001B[0;32m--> 946\u001B[0m     \u001B[38;5;28mself\u001B[39m\u001B[38;5;241m.\u001B[39msock \u001B[38;5;241m=\u001B[39m \u001B[38;5;28;43mself\u001B[39;49m\u001B[38;5;241;43m.\u001B[39;49m\u001B[43m_create_connection\u001B[49m\u001B[43m(\u001B[49m\n\u001B[1;32m    947\u001B[0m \u001B[43m        \u001B[49m\u001B[43m(\u001B[49m\u001B[38;5;28;43mself\u001B[39;49m\u001B[38;5;241;43m.\u001B[39;49m\u001B[43mhost\u001B[49m\u001B[43m,\u001B[49m\u001B[38;5;28;43mself\u001B[39;49m\u001B[38;5;241;43m.\u001B[39;49m\u001B[43mport\u001B[49m\u001B[43m)\u001B[49m\u001B[43m,\u001B[49m\u001B[43m \u001B[49m\u001B[38;5;28;43mself\u001B[39;49m\u001B[38;5;241;43m.\u001B[39;49m\u001B[43mtimeout\u001B[49m\u001B[43m,\u001B[49m\u001B[43m \u001B[49m\u001B[38;5;28;43mself\u001B[39;49m\u001B[38;5;241;43m.\u001B[39;49m\u001B[43msource_address\u001B[49m\u001B[43m)\u001B[49m\n\u001B[1;32m    948\u001B[0m     \u001B[38;5;66;03m# Might fail in OSs that don't implement TCP_NODELAY\u001B[39;00m\n\u001B[1;32m    949\u001B[0m     \u001B[38;5;28;01mtry\u001B[39;00m:\n",
      "File \u001B[0;32m~/anaconda3/envs/iiwa/lib/python3.9/socket.py:856\u001B[0m, in \u001B[0;36mcreate_connection\u001B[0;34m(address, timeout, source_address)\u001B[0m\n\u001B[1;32m    854\u001B[0m \u001B[38;5;28;01mif\u001B[39;00m err \u001B[38;5;129;01mis\u001B[39;00m \u001B[38;5;129;01mnot\u001B[39;00m \u001B[38;5;28;01mNone\u001B[39;00m:\n\u001B[1;32m    855\u001B[0m     \u001B[38;5;28;01mtry\u001B[39;00m:\n\u001B[0;32m--> 856\u001B[0m         \u001B[38;5;28;01mraise\u001B[39;00m err\n\u001B[1;32m    857\u001B[0m     \u001B[38;5;28;01mfinally\u001B[39;00m:\n\u001B[1;32m    858\u001B[0m         \u001B[38;5;66;03m# Break explicitly a reference cycle\u001B[39;00m\n\u001B[1;32m    859\u001B[0m         err \u001B[38;5;241m=\u001B[39m \u001B[38;5;28;01mNone\u001B[39;00m\n",
      "File \u001B[0;32m~/anaconda3/envs/iiwa/lib/python3.9/socket.py:844\u001B[0m, in \u001B[0;36mcreate_connection\u001B[0;34m(address, timeout, source_address)\u001B[0m\n\u001B[1;32m    842\u001B[0m \u001B[38;5;28;01mif\u001B[39;00m source_address:\n\u001B[1;32m    843\u001B[0m     sock\u001B[38;5;241m.\u001B[39mbind(source_address)\n\u001B[0;32m--> 844\u001B[0m \u001B[43msock\u001B[49m\u001B[38;5;241;43m.\u001B[39;49m\u001B[43mconnect\u001B[49m\u001B[43m(\u001B[49m\u001B[43msa\u001B[49m\u001B[43m)\u001B[49m\n\u001B[1;32m    845\u001B[0m \u001B[38;5;66;03m# Break explicitly a reference cycle\u001B[39;00m\n\u001B[1;32m    846\u001B[0m err \u001B[38;5;241m=\u001B[39m \u001B[38;5;28;01mNone\u001B[39;00m\n",
      "\u001B[0;31mConnectionRefusedError\u001B[0m: [Errno 111] Connection refused"
     ]
    }
   ],
   "execution_count": 4
  },
  {
   "metadata": {
    "ExecuteTime": {
     "end_time": "2025-02-20T09:54:16.868578Z",
     "start_time": "2025-02-20T09:54:16.809093Z"
    }
   },
   "cell_type": "code",
   "source": "r.q",
   "id": "55fbb404005444d",
   "outputs": [
    {
     "data": {
      "text/plain": [
       "array([0., 0., 0., 0., 0., 0., 0.])"
      ]
     },
     "execution_count": 5,
     "metadata": {},
     "output_type": "execute_result"
    }
   ],
   "execution_count": 5
  },
  {
   "metadata": {},
   "cell_type": "code",
   "source": [
    "#pre-defined pose\n",
    "home_pose = np.array([ 0.03063398, -0.15441399,  0.82104033,  0.82512679,  0.00664029,\n",
    "       -0.2039733 ,  0.80409743,  0.        , -0.10271061, -0.06070025,\n",
    "        0.90650362,  0.81377007,  0.86300686,  0.44554398,  0.08874171,\n",
    "        0.77574977])\n",
    "\n",
    "catch_pose = np.array([-0.50889807,  1.74874918,  0.12737114,  0.39226041,  0.07008444,\n",
    "        1.64808905,  1.36754356,  0.21940653,  0.0937576 ,  1.77053021,\n",
    "        1.36580765,  0.55991777,  0.94150295,  0.14131779, -0.24060529,\n",
    "        0.96755097])\n",
    "\n",
    "envelop_pose = np.array([ 0.07941064,  1.77857954,  0.44877399,  0.62444235,  0.29191241,\n",
    "        1.55038098,  0.61655537,  0.36046541,  0.4311105 ,  1.76264807,\n",
    "        1.02352552,  0.9226552 ,  1.54144452,  0.48900141, -0.08175917,\n",
    "        1.3566044 ])\n",
    "\n",
    "while True:\n",
    "    r.move_to_joints(home_pose,vel=[0.2,8.0])\n",
    "    rospy.sleep(2)\n",
    "    r.move_to_joints(envelop_pose, vel=[0.2,8.0])\n",
    "    rospy.sleep(2)"
   ],
   "id": "c3e280fe1fbb1f47",
   "outputs": [],
   "execution_count": null
  },
  {
   "metadata": {},
   "cell_type": "code",
   "source": [
    "# position control\n",
    "r.iiwa_go_home()"
   ],
   "id": "a511c675b2ac23a",
   "outputs": [],
   "execution_count": null
  },
  {
   "metadata": {},
   "cell_type": "code",
   "source": [
    "# impedance control\n",
    "target_pose = r.x\n",
    "target_pose[0] -=0.2\n",
    "target_pose[2] -=0.2\n",
    "efforts = []\n",
    "r.iiwa_cartesion_impedance_control(target_pose,vel=1.0)\n"
   ],
   "id": "398a55b469d47d4d",
   "outputs": [],
   "execution_count": null
  },
  {
   "metadata": {},
   "cell_type": "code",
   "source": [
    "# move along a circle under impedance control\n",
    "def generate_circle_via_points(current_pose, radius=0.05, num_points=10):\n",
    "    x0, y0, z0 = current_pose[:3]\n",
    "    center_x = x0 - radius\n",
    "    center_y = y0\n",
    "    center_z = z0\n",
    "\n",
    "    theta_array = np.linspace(0, 2*math.pi, num_points)\n",
    "\n",
    "    via_points = np.zeros((num_points, 7))\n",
    "    for i, theta in enumerate(theta_array):\n",
    "        # x = center_x + radius*cos(theta), y = center_y + radius*sin(theta)\n",
    "        x = center_x + radius * math.cos(theta)\n",
    "        y = center_y + radius * math.sin(theta)\n",
    "        z = center_z\n",
    "        via_points[i, :3] = np.array([x, y, z])\n",
    "\n",
    "        via_points[i, 3:] = current_pose[3:]\n",
    "    return via_points\n",
    "\n",
    "current_pose = r.x\n",
    "via_points = generate_circle_via_points(current_pose, radius=0.2, num_points=20)\n",
    "\n",
    "r.iiwa_cartesion_impedance_control(via_points)"
   ],
   "id": "9acb26644ee35fc0",
   "outputs": [],
   "execution_count": null
  },
  {
   "metadata": {
    "ExecuteTime": {
     "end_time": "2025-02-19T16:23:00.138167979Z",
     "start_time": "2025-02-17T14:58:22.245722Z"
    }
   },
   "cell_type": "code",
   "source": [
    "target_pose = np.copy(r.x)\n",
    "target_pose[2] -= 0.2\n",
    "q = r.trac_ik_solver(target_pose)\n",
    "# r.move_to_joints(q, vel=[0.1, 1.0])\n",
    "r.move_to_target_cartesian_pose(target_pose)\n",
    "print(r.q - q)"
   ],
   "id": "99d215185f2ae826",
   "outputs": [
    {
     "name": "stdout",
     "output_type": "stream",
     "text": [
      "Linear interpolation by 906 joints\n",
      "Trajectory has been executed.\n",
      "[ 0.27561274 -0.44333757 -0.34632029  0.0697855   0.35094933  0.25397638\n",
      "  0.42520985]\n"
     ]
    }
   ],
   "execution_count": 3
  },
  {
   "metadata": {
    "jupyter": {
     "is_executing": true
    },
    "ExecuteTime": {
     "start_time": "2025-02-27T10:06:04.768797Z"
    }
   },
   "cell_type": "code",
   "source": [
    "import sys\n",
    "sys.path.append(\"../\")\n",
    "import utils.mujoco_interface\n",
    "import mujoco\n",
    "from mujoco import viewer\n",
    "\n",
    "xml_path = '../description/iiwa7_allegro_ycb.xml'\n",
    "obj_name = ''\n",
    "model = mujoco.MjModel.from_xml_path(xml_path)\n",
    "data = mujoco.MjData(model)\n",
    "mujoco.mj_step(model, data)\n",
    "\n",
    "# viewer.launch(model, data)\n",
    "view = viewer.launch(model, data)\n",
    "# in notebook, we need ro run view.sync() manually, and set auto_sync=False\n",
    "\n",
    "obj_names = ['banana', 'bottle', 'chip_can', 'soft_scrub', 'sugar_box']\n",
    "num = 0\n",
    "obj = obj_names[num]\n",
    "r = mujoco_interface.Robot(model, data, view, auto_sync=False, obj_names=obj_names)\n",
    "\n",
    "q0 = np.array([-0.32032434,  0.02706913, -0.22881953, -1.42621454,  1.3862661 , 0.55966738,  1.79477984 - np.pi*3/2])\n",
    "r.d.qpos[:7]  = q0\n",
    "\n",
    "r.step()\n",
    "view.sync()\n"
   ],
   "id": "ce1ce2095b932c6b",
   "outputs": [],
   "execution_count": null
  },
  {
   "metadata": {},
   "cell_type": "code",
   "outputs": [],
   "execution_count": null,
   "source": [
    "r.modify_joint(q0)\n",
    "# move the object to a proper pose\n",
    "p = np.array([0.59,-0.315,1.3])\n",
    "q = rot.euler2quat([np.pi/2,np.pi,np.pi/18*1.5])\n",
    "pose = np.concatenate([p, q])\n",
    "r.modify_obj_pose(obj, pose)\n",
    "\n",
    "# move the hand to the grasping configuration\n",
    "\n",
    "qh = np.array([0, 0.33, 1.05, 1.05,\n",
    "               0, 0.29, 1.2, 0.6,\n",
    "               0, 0.32, 1.2, 0.8,\n",
    "               1, 0.5, 0.71,1])\n",
    "r.modify_joint(qh)\n",
    "\n",
    "r.step()\n",
    "view.sync()"
   ],
   "id": "a44be63b22782e87"
  }
 ],
 "metadata": {
  "kernelspec": {
   "display_name": "Python 3",
   "language": "python",
   "name": "python3"
  },
  "language_info": {
   "codemirror_mode": {
    "name": "ipython",
    "version": 2
   },
   "file_extension": ".py",
   "mimetype": "text/x-python",
   "name": "python",
   "nbconvert_exporter": "python",
   "pygments_lexer": "ipython2",
   "version": "2.7.6"
  }
 },
 "nbformat": 4,
 "nbformat_minor": 5
}
