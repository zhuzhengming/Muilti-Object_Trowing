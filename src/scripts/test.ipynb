{
 "cells": [
  {
   "metadata": {
    "ExecuteTime": {
     "end_time": "2025-05-18T12:56:29.581939Z",
     "start_time": "2025-05-18T12:56:28.381312Z"
    }
   },
   "cell_type": "code",
   "source": [
    "import sys\n",
    "sys.path.append('../')\n",
    "import copy\n",
    "import math\n",
    "import numpy as np\n",
    "from utils.controller_utils import Robot\n",
    "import rospy\n",
    "import tools.rotations as rot\n",
    "import matplotlib\n",
    "import matplotlib.pyplot as plt\n",
    "matplotlib.use('Qt5Agg')\n",
    "\n",
    "%load_ext autoreload\n",
    "%autoreload 2\n",
    "\n",
    "r = Robot(optitrack_frame_names=['iiwa_base7', 'realsense_m'], position_control=True)\n"
   ],
   "id": "45f2890117f49155",
   "outputs": [
    {
     "name": "stdout",
     "output_type": "stream",
     "text": [
      "The autoreload extension is already loaded. To reload it, use:\n",
      "  %reload_ext autoreload\n",
      "Kinematic model has been loaded from ../kinematics/q2pose_left.txt\n"
     ]
    },
    {
     "name": "stderr",
     "output_type": "stream",
     "text": [
      "\u001B[33m[ WARN] [1747572988.572406017]: distance is not a valid solve_type; setting to default: Speed\u001B[0m\n",
      "Unknown tag \"material\" in /robot[@name='iiwa7']/link[@name='iiwa_link_0']/collision[1]\n",
      "Unknown tag \"self_collision_checking\" in /robot[@name='iiwa7']/link[@name='iiwa_link_0']\n",
      "Unknown tag \"material\" in /robot[@name='iiwa7']/link[@name='iiwa_link_1']/collision[1]\n",
      "Unknown tag \"material\" in /robot[@name='iiwa7']/link[@name='iiwa_link_2']/collision[1]\n",
      "Unknown tag \"material\" in /robot[@name='iiwa7']/link[@name='iiwa_link_3']/collision[1]\n",
      "Unknown tag \"material\" in /robot[@name='iiwa7']/link[@name='iiwa_link_4']/collision[1]\n",
      "Unknown tag \"material\" in /robot[@name='iiwa7']/link[@name='iiwa_link_5']/collision[1]\n",
      "Unknown tag \"material\" in /robot[@name='iiwa7']/link[@name='iiwa_link_6']/collision[1]\n",
      "Unknown tag \"material\" in /robot[@name='iiwa7']/link[@name='iiwa_link_7']/collision[1]\n",
      "Unknown tag \"hardwareInterface\" in /robot[@name='iiwa7']/transmission[@name='iiwa_tran_1']/actuator[@name='iiwa_motor_1']\n",
      "Unknown tag \"robotNamespace\" in /robot[@name='iiwa7']/transmission[@name='iiwa_tran_1']\n",
      "Unknown tag \"hardwareInterface\" in /robot[@name='iiwa7']/transmission[@name='iiwa_tran_2']/actuator[@name='iiwa_motor_2']\n",
      "Unknown tag \"robotNamespace\" in /robot[@name='iiwa7']/transmission[@name='iiwa_tran_2']\n",
      "Unknown tag \"hardwareInterface\" in /robot[@name='iiwa7']/transmission[@name='iiwa_tran_3']/actuator[@name='iiwa_motor_3']\n",
      "Unknown tag \"robotNamespace\" in /robot[@name='iiwa7']/transmission[@name='iiwa_tran_3']\n",
      "Unknown tag \"hardwareInterface\" in /robot[@name='iiwa7']/transmission[@name='iiwa_tran_4']/actuator[@name='iiwa_motor_4']\n",
      "Unknown tag \"robotNamespace\" in /robot[@name='iiwa7']/transmission[@name='iiwa_tran_4']\n",
      "Unknown tag \"hardwareInterface\" in /robot[@name='iiwa7']/transmission[@name='iiwa_tran_5']/actuator[@name='iiwa_motor_5']\n",
      "Unknown tag \"robotNamespace\" in /robot[@name='iiwa7']/transmission[@name='iiwa_tran_5']\n",
      "Unknown tag \"hardwareInterface\" in /robot[@name='iiwa7']/transmission[@name='iiwa_tran_6']/actuator[@name='iiwa_motor_6']\n",
      "Unknown tag \"robotNamespace\" in /robot[@name='iiwa7']/transmission[@name='iiwa_tran_6']\n",
      "Unknown tag \"hardwareInterface\" in /robot[@name='iiwa7']/transmission[@name='iiwa_tran_7']/actuator[@name='iiwa_motor_7']\n",
      "Unknown tag \"robotNamespace\" in /robot[@name='iiwa7']/transmission[@name='iiwa_tran_7']\n"
     ]
    }
   ],
   "execution_count": 2
  },
  {
   "metadata": {
    "ExecuteTime": {
     "end_time": "2025-05-18T12:56:29.742527Z",
     "start_time": "2025-05-18T12:56:29.725276Z"
    }
   },
   "cell_type": "code",
   "source": "r.qh",
   "id": "7117f4e8fcaccd52",
   "outputs": [
    {
     "data": {
      "text/plain": [
       "array([ 0.19313218,  0.45095317,  0.7355289 ,  0.10802191, -0.24161037,\n",
       "        1.22259051,  0.81412212,  0.46170215, -0.6280001 ,  0.55387722,\n",
       "        0.64075115,  0.31692565,  1.06354138,  0.49259906,  0.35508279,\n",
       "        1.14536026])"
      ]
     },
     "execution_count": 4,
     "metadata": {},
     "output_type": "execute_result"
    }
   ],
   "execution_count": 4
  },
  {
   "metadata": {
    "ExecuteTime": {
     "end_time": "2025-05-18T12:57:05.700893Z",
     "start_time": "2025-05-18T12:57:05.629040Z"
    }
   },
   "cell_type": "code",
   "source": [
    "#pre-defined pose\n",
    "home_pose = np.array([ 0.03063398, -0.15441399,  0.82104033,  0.82512679,  0.00664029,\n",
    "       -0.2039733 ,  0.80409743,  0.        , -0.10271061, -0.06070025,\n",
    "        0.90650362,  0.81377007,  0.86300686,  0.44554398,  0.08874171,\n",
    "        0.77574977])\n",
    "\n",
    "catch_pose = np.array([-0.50889807,  1.74874918,  0.12737114,  0.39226041,  0.07008444,\n",
    "        1.64808905,  1.36754356,  0.21940653,  0.0937576 ,  1.77053021,\n",
    "        1.36580765,  0.55991777,  0.94150295,  0.14131779, -0.24060529,\n",
    "        0.96755097])\n",
    "\n",
    "release_pose = np.array([ 0.06062334, -0.28774685,  0.58036132, -0.27871771, -0.12211313,\n",
    "        1.24530951,  0.79705047,  0.4162993 , -0.3210622 , -0.0840534 ,\n",
    "        0.24383255,  0.22312064,  1.39094669,  0.48692642,  0.68869331,\n",
    "        1.29376476])\n",
    "\n",
    "envelop_pose = np.array([-0.43766248,  1.64742893,  1.71234135,  0.29678561, -0.28443194,\n",
    "        1.43192214,  0.94776061,  1.06378445, -0.38366386,  1.44275598,\n",
    "        1.67857691,  0.57464526,  1.34141247,  0.40525829,  0.42740842,\n",
    "        0.89417196])\n",
    "\n",
    "train_envelop_pose = np.array([ 0.36612518,  0.45032315,  0.71964249,  0.11512009, -0.14777576,\n",
    "        1.23505241,  0.78363779,  0.44444217, -0.57235144,  0.48888354,\n",
    "        0.63816652,  0.34616258,  1.36452549,  0.52015403,  0.68981928,\n",
    "        1.27919653])\n",
    "\n",
    "r.move_to_joints(train_envelop_pose, vel=[0.2,8.0])"
   ],
   "id": "c9e4d6f6baaafcf0",
   "outputs": [
    {
     "name": "stdout",
     "output_type": "stream",
     "text": [
      "Linear interpolation by 11 joints\n",
      "Trajectory has been executed.\n"
     ]
    }
   ],
   "execution_count": 8
  },
  {
   "metadata": {},
   "cell_type": "code",
   "outputs": [],
   "execution_count": null,
   "source": [
    "# position control\n",
    "r.iiwa_go_home()"
   ],
   "id": "7c862642419d8181"
  },
  {
   "metadata": {},
   "cell_type": "code",
   "outputs": [],
   "execution_count": null,
   "source": [
    "# impedance control\n",
    "target_pose = r.x\n",
    "target_pose[0] -=0.2\n",
    "target_pose[2] -=0.2\n",
    "efforts = []\n",
    "r.iiwa_cartesion_impedance_control(target_pose,vel=1.0)\n"
   ],
   "id": "fea39465d439a2e3"
  },
  {
   "metadata": {},
   "cell_type": "code",
   "outputs": [],
   "execution_count": null,
   "source": [
    "# move along a circle under impedance control\n",
    "def generate_circle_via_points(current_pose, radius=0.05, num_points=10):\n",
    "    x0, y0, z0 = current_pose[:3]\n",
    "    center_x = x0 - radius\n",
    "    center_y = y0\n",
    "    center_z = z0\n",
    "\n",
    "    theta_array = np.linspace(0, 2*math.pi, num_points)\n",
    "\n",
    "    via_points = np.zeros((num_points, 7))\n",
    "    for i, theta in enumerate(theta_array):\n",
    "        # x = center_x + radius*cos(theta), y = center_y + radius*sin(theta)\n",
    "        x = center_x + radius * math.cos(theta)\n",
    "        y = center_y + radius * math.sin(theta)\n",
    "        z = center_z\n",
    "        via_points[i, :3] = np.array([x, y, z])\n",
    "\n",
    "        via_points[i, 3:] = current_pose[3:]\n",
    "    return via_points\n",
    "\n",
    "current_pose = r.x\n",
    "via_points = generate_circle_via_points(current_pose, radius=0.2, num_points=20)\n",
    "\n",
    "r.iiwa_cartesion_impedance_control(via_points)"
   ],
   "id": "2f30939bf9bae08d"
  },
  {
   "metadata": {},
   "cell_type": "code",
   "outputs": [],
   "execution_count": null,
   "source": [
    "target_pose = np.copy(r.x)\n",
    "target_pose[2] -= 0.2\n",
    "q = r.trac_ik_solver(target_pose)\n",
    "# r.move_to_joints(q, vel=[0.1, 1.0])\n",
    "r.move_to_target_cartesian_pose(target_pose)\n",
    "print(r.q - q)"
   ],
   "id": "cedfeafa2ef62542"
  },
  {
   "metadata": {},
   "cell_type": "code",
   "outputs": [],
   "execution_count": null,
   "source": [
    "import sys\n",
    "sys.path.append(\"../\")\n",
    "import utils.mujoco_interface\n",
    "import mujoco\n",
    "from mujoco import viewer\n",
    "\n",
    "xml_path = '../description/iiwa7_allegro_ycb.xml'\n",
    "obj_name = ''\n",
    "model = mujoco.MjModel.from_xml_path(xml_path)\n",
    "data = mujoco.MjData(model)\n",
    "mujoco.mj_step(model, data)\n",
    "\n",
    "# viewer.launch(model, data)\n",
    "view = viewer.launch(model, data)\n",
    "# in notebook, we need ro run view.sync() manually, and set auto_sync=False\n",
    "\n",
    "obj_names = ['banana', 'bottle', 'chip_can', 'soft_scrub', 'sugar_box']\n",
    "num = 0\n",
    "obj = obj_names[num]\n",
    "r = mujoco_interface.Robot(model, data, view, auto_sync=False, obj_names=obj_names)\n",
    "\n",
    "q0 = np.array([-0.32032434,  0.02706913, -0.22881953, -1.42621454,  1.3862661 , 0.55966738,  1.79477984 - np.pi*3/2])\n",
    "r.d.qpos[:7]  = q0\n",
    "\n",
    "r.step()\n",
    "view.sync()\n"
   ],
   "id": "4ee4c157572f4647"
  },
  {
   "metadata": {},
   "cell_type": "code",
   "outputs": [],
   "execution_count": null,
   "source": [
    "r.modify_joint(q0)\n",
    "# move the object to a proper pose\n",
    "p = np.array([0.59,-0.315,1.3])\n",
    "q = rot.euler2quat([np.pi/2,np.pi,np.pi/18*1.5])\n",
    "pose = np.concatenate([p, q])\n",
    "r.modify_obj_pose(obj, pose)\n",
    "\n",
    "# move the hand to the grasping configuration\n",
    "\n",
    "qh = np.array([0, 0.33, 1.05, 1.05,\n",
    "               0, 0.29, 1.2, 0.6,\n",
    "               0, 0.32, 1.2, 0.8,\n",
    "               1, 0.5, 0.71,1])\n",
    "r.modify_joint(qh)\n",
    "\n",
    "r.step()\n",
    "view.sync()"
   ],
   "id": "9005510cd6fe5bf4"
  },
  {
   "metadata": {},
   "cell_type": "code",
   "outputs": [],
   "execution_count": null,
   "source": [
    "import gym\n",
    "import torch\n",
    "from stable_baselines3 import PPO, DDPG, TD3, SAC, HerReplayBuffer\n",
    "\n",
    "log_dir = './panda_reach_v2_tensorboard/'\n",
    "device = \"cuda\" if torch.cuda.is_available() else \"cpu\"\n",
    "print(f\"Using device: {device}\")\n",
    "\n",
    "env = gym.make('HandReach')\n",
    "model = PPO('MultiInputPolicy', env,\n",
    "            verbose=1,\n",
    "            device=device)\n",
    "model.learn(total_timesteps=100000)\n",
    "model.save(\"ppo_panda_reach_v2\")\n",
    "\n"
   ],
   "id": "f0b7f2a9e713fc51"
  },
  {
   "metadata": {},
   "cell_type": "code",
   "outputs": [],
   "execution_count": null,
   "source": "",
   "id": "b28c52ebd47c90da"
  },
  {
   "metadata": {},
   "cell_type": "code",
   "outputs": [],
   "execution_count": null,
   "source": [
    "obs = env.reset()\n",
    "for _ in range(1000):\n",
    "    action, _states = model.predict(obs,deterministic=True)\n",
    "    obs, rewards, done, info = env.step(action)\n",
    "    env.render()\n",
    "    if done:\n",
    "        obs = env.reset()"
   ],
   "id": "641db195f613aa37"
  }
 ],
 "metadata": {
  "kernelspec": {
   "display_name": "Python 3",
   "language": "python",
   "name": "python3"
  },
  "language_info": {
   "codemirror_mode": {
    "name": "ipython",
    "version": 2
   },
   "file_extension": ".py",
   "mimetype": "text/x-python",
   "name": "python",
   "nbconvert_exporter": "python",
   "pygments_lexer": "ipython2",
   "version": "2.7.6"
  }
 },
 "nbformat": 4,
 "nbformat_minor": 5
}
