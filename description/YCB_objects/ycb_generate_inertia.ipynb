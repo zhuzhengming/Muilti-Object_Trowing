{
 "cells": [
  {
   "cell_type": "code",
   "execution_count": 2,
   "metadata": {
    "collapsed": true,
    "pycharm": {
     "name": "#%%\n"
    }
   },
   "outputs": [],
   "source": [
    "import numpy as np\n",
    "import trimesh\n",
    "\n"
   ]
  },
  {
   "cell_type": "code",
   "execution_count": 4,
   "outputs": [
    {
     "name": "stdout",
     "output_type": "stream",
     "text": [
      "banana\n",
      "<inertial pos=\"-0.009936102440002158 0.004072679186328214 0.01712688923116843\" mass=\"0.01\" fullinertia=\"2.1845116025836452e-05 4.516064194303608e-06 2.486640869788388e-05 -6.454664859043532e-06 1.5460056391352561e-07 -1.2944548120843962e-07\" />\n",
      "\n",
      "bottle\n",
      "<inertial pos=\"-0.015054346191835743 -0.02310937838026133 0.07504230732494276\" mass=\"0.01\" fullinertia=\"2.4304640422371926e-05 2.674859531816691e-05 7.015112534062742e-06 1.2578584266485865e-06 -8.248848177586826e-08 -1.1689986877112398e-07\" />\n",
      "\n",
      "chip_can\n",
      "<inertial pos=\"-8.963122858409468e-09 0.09432490407944878 -3.18747072778518e-05\" mass=\"0.01\" fullinertia=\"5.3633229670599616e-05 7.067600217671682e-06 5.363261224796618e-05 -5.546109067138381e-12 -1.6654768074641885e-10 -3.740678106916932e-12\" />\n",
      "\n",
      "soft_scrub\n",
      "<inertial pos=\"0.00013506625840881405 0.0045245616448951285 -0.025140060921696253\" mass=\"0.01\" fullinertia=\"4.695967963974023e-05 4.3546452972931536e-05 8.048659077763641e-06 -3.5347701573689136e-08 -2.2136436532102157e-08 -2.5202962748960512e-06\" />\n",
      "\n",
      "sugar_box\n",
      "<inertial pos=\"-0.007698415494577894 -0.017078163162294522 0.08602381422432334\" mass=\"0.01\" fullinertia=\"3.153023918996844e-05 2.6445760217216182e-05 7.937980467936385e-06 -1.8465549320520982e-07 9.373965782143753e-07 -3.1918628230472196e-07\" />\n",
      "\n",
      "champagne_glass\n",
      "<inertial pos=\"9.123503975338955e-11 -6.688711864724951e-10 0.14198131249098178\" mass=\"0.01\" fullinertia=\"5.2672950748378754e-05 5.2672949725513476e-05 7.671435979078226e-06 -1.1440655501319162e-12 -3.344826072142586e-13 -6.94323360631693e-12\" />\n",
      "\n",
      "paper_ball\n",
      "<inertial pos=\"-0.008282508974543312 0.03558417420236333 0.0003940444362657853\" mass=\"0.01\" fullinertia=\"8.166066874876369e-06 6.766851556292742e-06 8.391825232176767e-06 2.24902098004185e-07 1.0710426560163395e-07 -1.35806099448519e-07\" />\n",
      "\n",
      "apple\n",
      "<inertial pos=\"-0.0016480202957852835 -0.002256664593323946 -0.0007355532922551801\" mass=\"0.2\" fullinertia=\"0.00020654858167238498 0.0002167076279555137 0.000209544910164081 1.011183250711457e-06 -6.115403648378643e-07 1.948864069749578e-06\" />\n",
      "\n"
     ]
    }
   ],
   "source": [
    "# by loading the mesh files and assuming that the object is uniformly distributed, we could get the inertia properties.\n",
    "\n",
    "obj_names = ['banana', 'bottle', 'chip_can', 'soft_scrub', 'sugar_box','champagne_glass','paper_ball', 'apple']\n",
    "\n",
    "\n",
    "for i in obj_names:\n",
    "    unit_mass = 0.01\n",
    "    if i in ['chip_can']:\n",
    "        path = i + '/' + i +'.obj'\n",
    "    elif i in ['champagne_glass', 'apple']:\n",
    "        path = '../llm_objects/' + i + '/' + i +'.obj'\n",
    "    elif i == 'paper_ball':\n",
    "        path = '../llm_objects/trash/' + i + '/' + i +'.obj'\n",
    "    else:\n",
    "        path = i + '/textured.obj'\n",
    "\n",
    "    if i == 'apple':\n",
    "        unit_mass = 0.2  # kg\n",
    "    mesh = trimesh.load(path)\n",
    "    mass_scale = unit_mass / mesh.mass\n",
    "    inertia = mesh.mass_properties['inertia'] * mass_scale\n",
    "    print(i)\n",
    "    print('<inertial pos=\"' + str(mesh.mass_properties['center_mass'][0]) + ' ' +\n",
    "          str(mesh.mass_properties['center_mass'][1]) + ' ' + str(mesh.mass_properties['center_mass'][2]) + '\" mass=\"'+str(unit_mass) +'\" ' + 'fullinertia=\"' + str(inertia[0,0]) + ' ' + str(inertia[1,1]) +' ' +  str(inertia[2,2]) + ' ' + str(inertia[0,1]) + ' ' + str(inertia[0,2]) + ' ' + str(inertia[1,2]) + '\" />' + '\\n')\n",
    "\n",
    "# please copy the inertial data to the `ycb_bodies.xml` file"
   ],
   "metadata": {
    "collapsed": false,
    "pycharm": {
     "name": "#%%\n"
    }
   }
  },
  {
   "cell_type": "code",
   "execution_count": 20,
   "outputs": [
    {
     "data": {
      "text/plain": "{'density': 1.0,\n 'mass': 0.000637932730363638,\n 'volume': 0.000637932730363638,\n 'center_mass': array([-0.00769842, -0.01707816,  0.08602381]),\n 'inertia': array([[ 2.01141716e-06, -1.17797783e-08,  5.97995959e-08],\n        [-1.17797783e-08,  1.68706160e-06, -2.03619377e-08],\n        [ 5.97995959e-08, -2.03619377e-08,  5.06389755e-07]])}"
     },
     "execution_count": 20,
     "metadata": {},
     "output_type": "execute_result"
    }
   ],
   "source": [
    "mesh.mass_properties"
   ],
   "metadata": {
    "collapsed": false,
    "pycharm": {
     "name": "#%%\n"
    }
   }
  }
 ],
 "metadata": {
  "kernelspec": {
   "display_name": "Python 3",
   "language": "python",
   "name": "python3"
  },
  "language_info": {
   "codemirror_mode": {
    "name": "ipython",
    "version": 2
   },
   "file_extension": ".py",
   "mimetype": "text/x-python",
   "name": "python",
   "nbconvert_exporter": "python",
   "pygments_lexer": "ipython2",
   "version": "2.7.6"
  }
 },
 "nbformat": 4,
 "nbformat_minor": 0
}